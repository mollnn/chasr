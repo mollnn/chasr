{
 "cells": [
  {
   "cell_type": "code",
   "execution_count": 1,
   "metadata": {},
   "outputs": [
    {
     "name": "stdout",
     "output_type": "stream",
     "text": [
      "WARNING:tensorflow:From C:\\Users\\mollnn\\Anaconda3\\envs\\tensorflow_gpu\\lib\\site-packages\\tensorflow\\python\\compat\\v2_compat.py:96: disable_resource_variables (from tensorflow.python.ops.variable_scope) is deprecated and will be removed in a future version.\n",
      "Instructions for updating:\n",
      "non-resource variables are not supported in the long term\n",
      "WARNING:tensorflow:From C:\\Users\\mollnn\\AppData\\Local\\Temp/ipykernel_5448/510407157.py:43: The name tf.keras.backend.set_session is deprecated. Please use tf.compat.v1.keras.backend.set_session instead.\n",
      "\n"
     ]
    }
   ],
   "source": [
    "# coding: utf-8\n",
    "import argparse\n",
    "import glob\n",
    "import librosa\n",
    "from tensorflow.keras.layers import BatchNormalization, Multiply, Add\n",
    "from tensorflow.keras.layers import Conv1D\n",
    "from tensorflow. keras.utils import multi_gpu_model\n",
    "import tensorflow.keras.callbacks\n",
    "from tensorflow.keras.optimizers import SGD, Adam\n",
    "from tensorflow.keras.layers import GRU\n",
    "from tensorflow.keras.models import Model\n",
    "from tensorflow.keras.layers import add, concatenate\n",
    "from tensorflow.keras.layers import Reshape, Lambda\n",
    "from tensorflow.keras.layers import Input, Dense, Activation\n",
    "from tensorflow.keras.layers import Conv2D, MaxPooling2D, Conv1D\n",
    "from tensorflow.keras.callbacks import EarlyStopping, ModelCheckpoint\n",
    "from tensorflow.keras.callbacks import CSVLogger, ReduceLROnPlateau\n",
    "from tensorflow.keras.preprocessing.sequence import pad_sequences\n",
    "from tensorflow.keras.preprocessing.text import Tokenizer\n",
    "import tensorflow.keras.backend as K\n",
    "import datetime\n",
    "import re\n",
    "import itertools\n",
    "import platform\n",
    "from tensorflow.keras.utils import to_categorical\n",
    "from tensorflow import keras\n",
    "from sklearn.metrics import accuracy_score\n",
    "import pickle\n",
    "from sklearn.preprocessing import MinMaxScaler\n",
    "from sklearn.model_selection import train_test_split\n",
    "import pandas as pd\n",
    "from tqdm import tqdm\n",
    "import os\n",
    "import codecs\n",
    "import numpy as np\n",
    "from os.path import join\n",
    "import tensorflow.compat.v1 as tf\n",
    "tf.disable_v2_behavior()\n",
    "\n",
    "config = tf.ConfigProto()\n",
    "config.gpu_options.allow_growth = True\n",
    "sess = tf.Session(config=config)\n",
    "tensorflow.compat.v1.keras.backend.set_session(sess)\n",
    "tensorflow.compat.v1.keras.backend.clear_session()  # 清理session\n",
    "\n",
    "np.random.seed(2018)\n",
    "\n"
   ]
  },
  {
   "cell_type": "code",
   "execution_count": 7,
   "metadata": {},
   "outputs": [
    {
     "data": {
      "text/plain": [
       "<tf.Tensor 'ExpandDims_5:0' shape=(2, 1) dtype=float32>"
      ]
     },
     "execution_count": 7,
     "metadata": {},
     "output_type": "execute_result"
    }
   ],
   "source": [
    "y_true = [[0,1,2],[2,1,0]]\n",
    "y_pred = [[[1,0,0],[0,1,0],[0,0,1]], [[0,0,1],[0,0.3,0.7],[1,0,0]]]\n",
    "input_length = [[3],[3]]\n",
    "label_length = [[3],[3]]\n",
    "K.ctc_batch_cost(y_true, y_pred, input_length, label_length)"
   ]
  },
  {
   "cell_type": "code",
   "execution_count": 9,
   "metadata": {},
   "outputs": [
    {
     "data": {
      "text/plain": [
       "<tf.Tensor 'the_input_1:0' shape=(?, 680, 26) dtype=float32>"
      ]
     },
     "execution_count": 9,
     "metadata": {},
     "output_type": "execute_result"
    }
   ],
   "source": [
    "input_tensor = Input(shape=(680,26), name=\"the_input\")\n",
    "input_tensor"
   ]
  },
  {
   "cell_type": "code",
   "execution_count": 12,
   "metadata": {},
   "outputs": [
    {
     "data": {
      "text/plain": [
       "<tf.Tensor 'conv1d_2/BiasAdd:0' shape=(?, 680, 192) dtype=float32>"
      ]
     },
     "execution_count": 12,
     "metadata": {},
     "output_type": "execute_result"
    }
   ],
   "source": [
    "x = Conv1D(kernel_size=1, filters=192, padding=\"same\")(input_tensor)\n",
    "x"
   ]
  },
  {
   "cell_type": "code",
   "execution_count": 15,
   "metadata": {},
   "outputs": [
    {
     "data": {
      "text/plain": [
       "<tf.Tensor 'activation_1/Tanh:0' shape=(?, 680, 192) dtype=float32>"
      ]
     },
     "execution_count": 15,
     "metadata": {},
     "output_type": "execute_result"
    }
   ],
   "source": [
    "x = BatchNormalization(axis=-1)(x)\n",
    "x = Activation(\"tanh\")(x)\n",
    "x"
   ]
  },
  {
   "cell_type": "code",
   "execution_count": 16,
   "metadata": {},
   "outputs": [],
   "source": [
    "def res_block(x, size, rate, dim=192):\n",
    "        x_tanh = Conv1D(kernel_size=size, filters=dim,\n",
    "                        dilation_rate=rate, padding=\"same\")(x)\n",
    "        x_tanh = BatchNormalization(axis=-1)(x_tanh)\n",
    "        x_tanh = Activation(\"tanh\")(x_tanh)\n",
    "        x_sigmoid = Conv1D(kernel_size=size, filters=dim,\n",
    "                           dilation_rate=rate, padding=\"same\")(x)\n",
    "        x_sigmoid = BatchNormalization(axis=-1)(x_sigmoid)\n",
    "        x_sigmoid = Activation(\"sigmoid\")(x_sigmoid)\n",
    "        out = Multiply()([x_tanh, x_sigmoid])\n",
    "        out = Conv1D(kernel_size=1, filters=dim, padding=\"same\")(out)\n",
    "        out = BatchNormalization(axis=-1)(out)\n",
    "        out = Activation(\"tanh\")(out)\n",
    "        x = Add()([x, out])\n",
    "        return x, out"
   ]
  },
  {
   "cell_type": "code",
   "execution_count": 18,
   "metadata": {},
   "outputs": [
    {
     "data": {
      "text/plain": [
       "[<tf.Tensor 'activation_34/Tanh:0' shape=(?, 680, 192) dtype=float32>,\n",
       " <tf.Tensor 'activation_37/Tanh:0' shape=(?, 680, 192) dtype=float32>,\n",
       " <tf.Tensor 'activation_40/Tanh:0' shape=(?, 680, 192) dtype=float32>,\n",
       " <tf.Tensor 'activation_43/Tanh:0' shape=(?, 680, 192) dtype=float32>,\n",
       " <tf.Tensor 'activation_46/Tanh:0' shape=(?, 680, 192) dtype=float32>,\n",
       " <tf.Tensor 'activation_49/Tanh:0' shape=(?, 680, 192) dtype=float32>,\n",
       " <tf.Tensor 'activation_52/Tanh:0' shape=(?, 680, 192) dtype=float32>,\n",
       " <tf.Tensor 'activation_55/Tanh:0' shape=(?, 680, 192) dtype=float32>,\n",
       " <tf.Tensor 'activation_58/Tanh:0' shape=(?, 680, 192) dtype=float32>,\n",
       " <tf.Tensor 'activation_61/Tanh:0' shape=(?, 680, 192) dtype=float32>]"
      ]
     },
     "execution_count": 18,
     "metadata": {},
     "output_type": "execute_result"
    }
   ],
   "source": [
    "skip = []\n",
    "for i in np.arange(0, 2):\n",
    "    for r in [1, 2, 4, 8, 16]:\n",
    "        x, s = res_block(x, size=7, rate=r)\n",
    "        skip.append(s)\n",
    "skip"
   ]
  },
  {
   "cell_type": "code",
   "execution_count": 19,
   "metadata": {},
   "outputs": [
    {
     "data": {
      "text/plain": [
       "<tf.Tensor 'conv1d_64/truediv:0' shape=(?, 680, 1000) dtype=float32>"
      ]
     },
     "execution_count": 19,
     "metadata": {},
     "output_type": "execute_result"
    }
   ],
   "source": [
    "output_size = 1000\n",
    "skip_tensor = Add()([s for s in skip])\n",
    "logit = Conv1D(kernel_size=1, filters=192, padding=\"same\")(skip_tensor)\n",
    "logit = BatchNormalization(axis=-1)(logit)\n",
    "logit = Activation(\"tanh\")(logit)\n",
    "y_pred = Conv1D(kernel_size=1, filters=output_size,\n",
    "                padding=\"same\", activation=\"softmax\")(logit)\n",
    "y_pred"
   ]
  }
 ],
 "metadata": {
  "interpreter": {
   "hash": "8146345a349ee509da9d4fd182b457ccbe591f61b447c7a0f2cf1b2fba90cca7"
  },
  "kernelspec": {
   "display_name": "Python 3.8.12 64-bit ('tensorflow_gpu': conda)",
   "name": "python3"
  },
  "language_info": {
   "codemirror_mode": {
    "name": "ipython",
    "version": 3
   },
   "file_extension": ".py",
   "mimetype": "text/x-python",
   "name": "python",
   "nbconvert_exporter": "python",
   "pygments_lexer": "ipython3",
   "version": "3.8.12"
  },
  "orig_nbformat": 4
 },
 "nbformat": 4,
 "nbformat_minor": 2
}
